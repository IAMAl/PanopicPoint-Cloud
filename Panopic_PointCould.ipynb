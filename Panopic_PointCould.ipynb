{
 "cells": [
  {
   "cell_type": "markdown",
   "metadata": {},
   "source": [
    "# Panopic Point-Cloud Construction"
   ]
  },
  {
   "cell_type": "markdown",
   "metadata": {},
   "source": [
    "## Detectron2 (Panopic Segmentation)\n",
    "\n",
    "URL: https://github.com/facebookresearch/detectron2\n",
    "\n",
    "**License**: Apache License, Version 2.0\n",
    "\n",
    "**Prerequisite**:\n",
    "\n",
    "- detectron2\n",
    "\n",
    "- vid2depth_tf2"
   ]
  },
  {
   "cell_type": "markdown",
   "metadata": {},
   "source": [
    "### Setup"
   ]
  },
  {
   "cell_type": "code",
   "execution_count": null,
   "metadata": {},
   "outputs": [],
   "source": [
    "# Some basic setup:\n",
    "# Setup detectron2 logger\n",
    "import detectron2\n",
    "from detectron2.utils.logger import setup_logger\n",
    "setup_logger()\n",
    "\n",
    "import matplotlib.pyplot as plt\n",
    "%matplotlib inline\n",
    "from mpl_toolkits.mplot3d import Axes3D\n",
    "\n",
    "# import some common detectron2 utilities\n",
    "from detectron2 import model_zoo\n",
    "from detectron2.engine import DefaultPredictor\n",
    "from detectron2.config import get_cfg\n",
    "from detectron2.utils.visualizer import Visualizer\n",
    "from detectron2.data import MetadataCatalog, DatasetCatalog\n",
    "\n",
    "# import some common libraries\n",
    "import numpy as np\n",
    "import pandas as pd\n",
    "import os\n",
    "import json\n",
    "import cv2\n",
    "import tqdm\n",
    "from pyntcloud import PyntCloud"
   ]
  },
  {
   "cell_type": "code",
   "execution_count": null,
   "metadata": {},
   "outputs": [],
   "source": [
    "img_width = 416\n",
    "img_height = 128"
   ]
  },
  {
   "cell_type": "markdown",
   "metadata": {},
   "source": [
    "### Make Directory"
   ]
  },
  {
   "cell_type": "code",
   "execution_count": null,
   "metadata": {},
   "outputs": [],
   "source": [
    "!mkdir panopic_img_kitti\n",
    "!mkdir panopic_edge_img_kitti\n",
    "!mkdir check_img_kitti\n",
    "!mkdir seg_depth_img_kitti\n",
    "!mkdir chk_image_kitti\n",
    "!mkdir seg_depth_img_kitti\n",
    "!mkdir semantic_point_cloud_kitti\n",
    "panopic_img_kitti = 'panopic_img_kitti'\n",
    "panopic_edge_img_kitti = '\n",
    "panopic_edge_img_kitti'\n",
    "check_img_kitti = 'check_img_kitti'\n",
    "seg_depth_img_kitti = 'seg_depth_img_kitti'\n",
    "chk_image_kitti = \"chk_image_kitti\"\n",
    "seg_depth_img_kitti = \"seg_depth_img_kitti\""
   ]
  },
  {
   "cell_type": "markdown",
   "metadata": {},
   "source": [
    "### File Read for Input Image"
   ]
  },
  {
   "cell_type": "code",
   "execution_count": null,
   "metadata": {},
   "outputs": [],
   "source": [
    "path_depth = \"./vid2depth_tf2/data/kitti_raw_eigen/2011_09_26_drive_0001_sync_02/\"\n",
    "files = os.listdir(path_depth)\n",
    "files = sorted(files)\n",
    "\n",
    "count = 0\n",
    "for file_name in files:\n",
    "    if '.jpg' in file_name:\n",
    "        count +=1\n",
    "print('Number of Files: {}'.format(count))"
   ]
  },
  {
   "cell_type": "markdown",
   "metadata": {},
   "source": [
    "### Setting Configuration of Detectron2"
   ]
  },
  {
   "cell_type": "code",
   "execution_count": null,
   "metadata": {},
   "outputs": [],
   "source": [
    "from detectron2.config import get_cfg\n",
    "cfg = get_cfg()\n",
    "cfg.merge_from_file(model_zoo.get_config_file(\"COCO-PanopticSegmentation/panoptic_fpn_R_101_3x.yaml\"))\n",
    "cfg.MODEL.WEIGHTS = model_zoo.get_checkpoint_url(\"COCO-PanopticSegmentation/panoptic_fpn_R_101_3x.yaml\")"
   ]
  },
  {
   "cell_type": "markdown",
   "metadata": {},
   "source": [
    "### Input Video (Option)"
   ]
  },
  {
   "cell_type": "code",
   "execution_count": null,
   "metadata": {},
   "outputs": [],
   "source": [
    "vidcap = cv2.VideoCapture('big_buck_bunny_720p_5mb.mp4')\n",
    "success,image = vidcap.read()\n",
    "count = 0\n",
    "while success:\n",
    "  cv2.imwrite(\"frame%d.jpg\" % count, image)     # save frame as JPEG file      \n",
    "  success,image = vidcap.read()\n",
    "  print('Read a new frame: ', success)\n",
    "  count += 1"
   ]
  },
  {
   "cell_type": "markdown",
   "metadata": {},
   "source": [
    "### Inferencing Panopic Segmentation"
   ]
  },
  {
   "cell_type": "code",
   "execution_count": null,
   "metadata": {},
   "outputs": [],
   "source": [
    "img_count = 0\n",
    "for file_name in files:\n",
    "    if '.jpg' in file_name:\n",
    "        img_count += 1\n",
    "\n",
    "        file_path = path_depth+file_name\n",
    "        img = cv2.imread(file_path)\n",
    "        img = np.asarray(img, dtype=np.float32)\n",
    "        original_img = cv2.cvtColor(img, cv2.COLOR_BGR2RGB)\n",
    "        original_img = original_img[:128, :416]\n",
    "        y, x, s = np.shape(original_img)\n",
    "        \n",
    "        predictor = DefaultPredictor(cfg)\n",
    "        panoptic_seg, segments_info = predictor(original_img)[\"panoptic_seg\"]\n",
    "        v = Visualizer(original_img[:, :, ::-1], MetadataCatalog.get(cfg.DATASETS.TRAIN[0]), scale=1.2)\n",
    "        \n",
    "        panopic_seg_img = v.draw_panoptic_seg_predictions(panoptic_seg.to(\"cpu\"), segments_info)\n",
    "        #panopic_seg_img = np.asarray(panopic_seg_img.get_image()[:, :, ::-1])\n",
    "        panopic_seg_img = np.asarray(panopic_seg_img.get_image())\n",
    "        panopic_seg_img = cv2.resize(panopic_seg_img, (x, y))\n",
    "        \n",
    "        #print('{}: {}'.format(img_count, file_name))\n",
    "        #plt.imshow(original_img/255.0)\n",
    "        #plt.show()        \n",
    "        #plt.imshow(panopic_seg_img)\n",
    "        #plt.show()\n",
    "        \n",
    "        cv2.imwrite(panopic_img_kitti+\"/\"+file_name, panopic_seg_img)\n",
    "\n",
    "files = os.listdir(panopic_img_kitti) \n",
    "count = len(files)\n",
    "print('Number of Files: {}'.format(count))\n",
    "print(\"Panopic Segmentation is done.\")"
   ]
  },
  {
   "cell_type": "markdown",
   "metadata": {},
   "source": [
    "## vid2depth (Depth Estimation)\n",
    "### vid2depth_tf2 (TensorFlow 2.0 version)\n",
    "URL: https://github.com/IAMAl/vid2depth_tf2\n",
    "\n",
    "**NOTE**: use *inference.py* in this directory.\n",
    "\n",
    "**License**: Apache License, Version 2.0"
   ]
  },
  {
   "cell_type": "markdown",
   "metadata": {},
   "source": [
    "### Inferencing Depth Estimation"
   ]
  },
  {
   "cell_type": "code",
   "execution_count": null,
   "metadata": {},
   "outputs": [],
   "source": [
    "!python3 ./vid2depth_tf2/inference.py \\\n",
    "  --output_dir   ./depth_img \\\n",
    "  --kitti_dir   ./vid2depth_tf2/ \\\n",
    "  --kitti_video data/kitti_raw_eigen/2011_09_26_drive_0001_sync  \\\n",
    "  --model_ckpt  ./vid2depth_tf2/checkpoints/model-119496 \\\n",
    "  --batch_size  5 \\\n",
    "  --img_width   img_width \\\n",
    "  --img_height  img_height\n",
    "\n",
    "\n",
    "path_depth_inf = \"./depth_img\"\n",
    "files_depth = os.listdir(path_depth_inf)\n",
    "count = len(files_depth)\n",
    "print('Number of Files: {}'.format(count))\n",
    "print(\"Depth Estimation is done.\")"
   ]
  },
  {
   "cell_type": "markdown",
   "metadata": {},
   "source": [
    "## Edge Detection"
   ]
  },
  {
   "cell_type": "code",
   "execution_count": null,
   "metadata": {},
   "outputs": [],
   "source": [
    "clr_th = 0.125\n",
    "scl_th = 2\n",
    "img_count = 0\n",
    "for file_name in files:\n",
    "    if '.jpg' in file_name:\n",
    "        img_count += 1\n",
    "        \n",
    "        file_path = path_depth+file_name\n",
    "        \n",
    "        file_path = panopic_img_kitti+\"/\"+file_name\n",
    "        sgmnt_img = cv2.imread(file_path)\n",
    "        sgmnt_img = np.asarray(sgmnt_img, dtype=np.float32)\n",
    "        sgmnt_img = cv2.cvtColor(sgmnt_img, cv2.COLOR_BGR2RGB)\n",
    "        sgmnt_img = cv2.resize(sgmnt_img, (416, 128))\n",
    "        \n",
    "        edges_img = np.zeros((128, 416, 3))\n",
    "        for y in range(scl_th, 128):\n",
    "            for x in range(scl_th, 416):\n",
    "                \n",
    "                pxl = np.zeros((scl_th, scl_th, 3))\n",
    "                for py in range(scl_th):\n",
    "                    for px in range(scl_th):\n",
    "                        pxl[py][px] = sgmnt_img[y+py-scl_th+1][x+px-scl_th+1]/255.0\n",
    "                \n",
    "                pxl_x_diff  = np.zeros((scl_th, 3))\n",
    "                for py in range(scl_th):\n",
    "                    for px in range(1, scl_th):\n",
    "                        pxl_x_diff[py] += np.abs(pxl[py][px-1] - pxl[py][px])\n",
    "\n",
    "                pxl_x = 0.0\n",
    "                for seq in range(3):\n",
    "                    for py in range(scl_th):\n",
    "                        if pxl_x_diff[py][seq] > clr_th:\n",
    "                            pxl_x += 1.0\n",
    "                \n",
    "\n",
    "                pxl_y_diff  = np.zeros((scl_th, 3))\n",
    "                for py in range(1, scl_th):\n",
    "                    for px in range(scl_th):\n",
    "                        pxl_y_diff[px] += np.abs(pxl[py-1][px] - pxl[py][px])\n",
    "                                \n",
    "                pxl_y = 0.0\n",
    "                for seq in range(3):\n",
    "                    for py in range(scl_th):\n",
    "                         if pxl_y_diff[py][seq] > clr_th:\n",
    "                            pxl_y += 1.0\n",
    "\n",
    "                \n",
    "                if (pxl_y + pxl_x) > 1/(scl_th*scl_th*255.0):\n",
    "                    edges_img[y][x][0] = 1.0\n",
    "                    edges_img[y][x][1] = 1.0\n",
    "                    edges_img[y][x][2] = 1.0\n",
    "        \n",
    "        \n",
    "        edges_img = cv2.threshold(edges_img, 0.5, 1.0, cv2.THRESH_BINARY)[1]\n",
    "        plt.imsave(panopic_edge_img_kitti+\"/\"+file_name,  edges_img)\n",
    "        #print(np.shape(edges_img))\n",
    "        #plt.imshow(edges_img)\n",
    "        #plt.show()\n",
    "\n",
    "print('Edge Extraction is finished.')"
   ]
  },
  {
   "cell_type": "markdown",
   "metadata": {},
   "source": [
    "### Check Images"
   ]
  },
  {
   "cell_type": "code",
   "execution_count": null,
   "metadata": {},
   "outputs": [],
   "source": [
    "img_count = 0\n",
    "for file_name in files:\n",
    "    if '.jpg' in file_name:\n",
    "        img_count += 1\n",
    "\n",
    "        file_path = path_depth+file_name\n",
    "\n",
    "        orign_img = cv2.imread(file_path)\n",
    "        orign_img = np.asarray(orign_img, dtype=np.float32)\n",
    "        orign_img = cv2.cvtColor(orign_img, cv2.COLOR_BGR2RGB)\n",
    "        orign_img = orign_img[:128, :416]/255.0\n",
    "        y, x, s   = np.shape(orign_img)\n",
    "        #print(np.shape(orign_img))\n",
    "        #plt.imshow(orign_img)\n",
    "        #plt.show()\n",
    "        \n",
    "        file_path = panopic_img_kitti+\"/\"+file_name[0:10]+\".jpg\"\n",
    "        sgmnt_img = cv2.imread(file_path)\n",
    "        sgmnt_img = np.asarray(sgmnt_img, dtype=np.float32)\n",
    "        sgmnt_img = cv2.cvtColor(sgmnt_img, cv2.COLOR_BGR2RGB)\n",
    "        sgmnt_img = cv2.resize(sgmnt_img, (x, y))/255.0\n",
    "        #print(np.shape(sgmnt_img))\n",
    "        #plt.imshow(sgmnt_img)\n",
    "        #plt.show()        \n",
    "        \n",
    "        file_path = \"./depth_img/\"+file_name[0:10]+'.png'\n",
    "        depth_img = cv2.imread(file_path)\n",
    "        depth_img = np.asarray(depth_img, dtype=np.float32)\n",
    "        depth_img = cv2.cvtColor(depth_img, cv2.COLOR_BGR2RGB)\n",
    "        depth_img = cv2.resize(depth_img, (x, y))/255.0\n",
    "        #print(np.shape(depth_img))\n",
    "        #plt.imshow(depth_img)\n",
    "        #plt.show() \n",
    "\n",
    "        file_path = panopic_edge_img_kitti+\"/\"+file_name\n",
    "        edges_img = cv2.imread(file_path)\n",
    "        edges_img = np.asarray(edges_img, dtype=np.float32)\n",
    "        edges_img = cv2.cvtColor(edges_img, cv2.COLOR_BGR2RGB)\n",
    "        edges_img = cv2.resize(edges_img, (x, y))/255.0\n",
    "        #print(np.shape(edges_img))\n",
    "        #plt.imshow(edges_img)\n",
    "        #plt.show()    \n",
    "        \n",
    "        img0 = cv2.hconcat([orign_img, sgmnt_img])\n",
    "        img1 = cv2.hconcat([depth_img, edges_img])\n",
    "        img2 = cv2.vconcat([img0, img1])\n",
    "        \n",
    "        depsed_segment_img = depth_img * edges_img\n",
    "        img3 = cv2.resize(depsed_segment_img, (x*2, y*2))\n",
    "        img  = cv2.vconcat([img2, img3])\n",
    "        #plt.imshow(img)\n",
    "        #plt.show()\n",
    "\n",
    "        file_path = chk_image_kitti+\"/\"+file_name\n",
    "        plt.imsave(file_path,  img)\n",
    "        \n",
    "        file_path = seg_depth_img_kitti+\"/\"+file_name\n",
    "        plt.imsave(file_path,  depsed_segment_img)\n",
    "\n",
    "print('Image Check Finished.')"
   ]
  },
  {
   "cell_type": "markdown",
   "metadata": {},
   "source": [
    "### Point Cloud Constructor"
   ]
  },
  {
   "cell_type": "code",
   "execution_count": null,
   "metadata": {},
   "outputs": [],
   "source": [
    "def depthToPoint3d(depth):\n",
    "    xx, yy = np.meshgrid(np.arange(0, width), np.arange(0, height))\n",
    "    x = xx\n",
    "    y = yy\n",
    "    depth = 4095 * depth\n",
    "    pos3d = np.dstack((x, y, depth, depth)).transpose(2, 1, 0).reshape(4, width*height)\n",
    "    return pos3d[0:3,:]\n",
    "\n",
    "def generatePointCloud(depth):\n",
    "    point3d = depthToPoint3d(depth).T/10000.0\n",
    "    points = pd.DataFrame(point3d)\n",
    "    points.columns = ['x', 'y', 'z']\n",
    "    cloud = PyntCloud(points)\n",
    "    return cloud\n",
    "\n",
    "def axisPointCloud(scale):\n",
    "    # color, [vertexes]\n",
    "    lines = {\n",
    "        '0xFF0000': [[0, 0, 0], [scale, 0, 0]],\n",
    "        '0x00FF00': [[0, 0, 0], [0, scale, 0]],\n",
    "        '0x0000FF': [[0, 0, 0], [0, 0, scale]]\n",
    "    }\n",
    "    return lines"
   ]
  },
  {
   "cell_type": "markdown",
   "metadata": {},
   "source": [
    "### Point-Clout Display"
   ]
  },
  {
   "cell_type": "code",
   "execution_count": null,
   "metadata": {},
   "outputs": [],
   "source": [
    "img_count = 0\n",
    "for file_name in files:\n",
    "    if '.jpg' in file_name:\n",
    "        img_count += 1\n",
    "        print('{}: {}'.format(img_count, file_name))\n",
    "        \n",
    "        file_path = \"./seg_depth_img_kitti/\"+file_name\n",
    "        \n",
    "        seg_depth_img = cv2.imread(file_path)\n",
    "        seg_depth_img = np.asarray(seg_depth_img, dtype=np.float32)\n",
    "        seg_depth_img = cv2.cvtColor(seg_depth_img, cv2.COLOR_BGR2RGB)\n",
    "        seg_depth_img = seg_depth_img/255.0\n",
    "\n",
    "        cloud = generatePointCloud(seg_depth_img[:,:,0])\n",
    "        #cloud.plot(mesh=True, backend=\"threejs\")\n",
    "        #cloud.plot(point_size=0.0001, opacity=1.0, polylines=axisPointCloud(1.0), elev=145, azim=110)\n",
    "        #cloud.to_file(\"./semantic_point_cloud_kitti/\"+file_name[0:10]+\".dat\", ext='CSV')        "
   ]
  }
 ],
 "metadata": {
  "kernelspec": {
   "display_name": "Python 3",
   "language": "python",
   "name": "python3"
  },
  "language_info": {
   "codemirror_mode": {
    "name": "ipython",
    "version": 3
   },
   "file_extension": ".py",
   "mimetype": "text/x-python",
   "name": "python",
   "nbconvert_exporter": "python",
   "pygments_lexer": "ipython3",
   "version": "3.8.5-final"
  }
 },
 "nbformat": 4,
 "nbformat_minor": 4
}